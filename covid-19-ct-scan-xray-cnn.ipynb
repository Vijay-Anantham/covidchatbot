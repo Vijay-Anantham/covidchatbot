{
 "cells": [
  {
   "cell_type": "markdown",
   "metadata": {},
   "source": [
    "# Acknowledgements\n",
    "\n",
    "- Dataset from https://github.com/ieee8023/covid-chestxray-dataset\n",
    "- COVID-19 Detector code from https://github.com/JordanMicahBennett/SMART-CT-SCAN_BASED-COVID19_VIRUS_DETECTOR/"
   ]
  },
  {
   "cell_type": "markdown",
   "metadata": {},
   "source": [
    "# Imports"
   ]
  },
  {
   "cell_type": "code",
   "execution_count": 1,
   "metadata": {
    "_cell_guid": "b1076dfc-b9ad-4769-8c92-a6c4dae69d19",
    "_uuid": "8f2839f25d086af736a60e9eeb907d3b93b6e0e5"
   },
   "outputs": [],
   "source": [
    "import pandas as pd\n",
    "import os"
   ]
  },
  {
   "cell_type": "code",
   "execution_count": 2,
   "metadata": {
    "_cell_guid": "79c7e3d0-c299-4dcb-8224-4455121ee9b0",
    "_uuid": "d629ff2d2480ee46fbb7e2d37f6b5fab8052498a"
   },
   "outputs": [],
   "source": [
    "# General libraries\n",
    "import numpy as np\n",
    "import random\n",
    "import cv2\n",
    "import matplotlib.pyplot as plt\n",
    "\n",
    "# Deep learning libraries\n",
    "#import keras.backend as K\n",
    "from tensorflow.keras.models import Model, Sequential\n",
    "from tensorflow.keras.layers import Input, Dense, Flatten, Dropout, BatchNormalization\n",
    "from tensorflow.keras.layers import Conv2D, SeparableConv2D, MaxPool2D, LeakyReLU, Activation\n",
    "from tensorflow.keras.optimizers import Adam\n",
    "from tensorflow.keras.preprocessing.image import ImageDataGenerator\n",
    "from tensorflow.keras.callbacks import ModelCheckpoint, ReduceLROnPlateau, EarlyStopping\n",
    "import tensorflow as tf\n",
    "\n",
    "#Util Component 1: Confusion matrix report/Accuracy measures\n",
    "from sklearn.metrics import accuracy_score, confusion_matrix\n",
    "\n",
    "# disabling warnings\n",
    "import logging\n",
    "logging.getLogger('tensorflow').disabled = True #Jordan_note: Disable red warning lines seen at model architecture creation."
   ]
  },
  {
   "cell_type": "markdown",
   "metadata": {},
   "source": [
    "# Utility Functions"
   ]
  },
  {
   "cell_type": "code",
   "execution_count": 3,
   "metadata": {},
   "outputs": [],
   "source": [
    "def renderConfusionMetrics ( ___model, _testData, _testLabels, enableTraining, ___train_gen, ___test_gen, __batch_size, __epochs, hdf5_testSaveFileName ):\n",
    "    preds = ___model.predict(_testData)\n",
    "\n",
    "    acc = accuracy_score(_testLabels, np.round(preds))*100\n",
    "    cm = confusion_matrix(_testLabels, np.round(preds))\n",
    "    tn, fp, fn, tp = cm.ravel()\n",
    "\n",
    "\n",
    "    print('\\nCONFUSION MATRIX FORMAT ------------------\\n')\n",
    "    print(\"[true positives    false positives]\")\n",
    "    print(\"[false negatives    true negatives]\\n\\n\")\n",
    "\n",
    "    print('CONFUSION MATRIX ------------------')\n",
    "    print(cm)\n",
    "\n",
    "    print('\\nTEST METRICS ----------------------')\n",
    "    precision = tp/(tp+fp)*100\n",
    "    recall = tp/(tp+fn)*100\n",
    "    specificity = tn/(tn+fp)*100 #Jordan_note: added specificity calculation \n",
    "    print('Accuracy: {}%'.format(acc))\n",
    "    print('Precision: {}%'.format(precision))\n",
    "    print('Recall/Sensitivity: {}%'.format(recall)) #Jordan_note: added sensitivity label\n",
    "    print('Specificity {}%'.format(specificity)) #Jordan_note: added specificity calculation \n",
    "    print('F1-score: {}'.format(2*precision*recall/(precision+recall)))\n",
    "\n",
    "\n",
    "    if enableTraining:\n",
    "        checkpoint = ModelCheckpoint(filepath=hdf5_testSaveFileName, save_best_only=True, save_weights_only=True)\n",
    "        lr_reduce = ReduceLROnPlateau(monitor='val_loss', factor=0.3, patience=2, verbose=2, mode='max')\n",
    "        early_stop = EarlyStopping(monitor='val_loss', min_delta=0.1, patience=1, mode='min')\n",
    "\n",
    "\n",
    "        hist = ___model.fit_generator(\n",
    "                   ___train_gen, steps_per_epoch=___test_gen.samples // __batch_size, \n",
    "                   epochs=__epochs, validation_data=___test_gen, \n",
    "                   validation_steps=___test_gen.samples // __batch_size, callbacks=[checkpoint, lr_reduce])\n",
    "\n",
    "        print('\\nTRAIN METRIC ----------------------')\n",
    "        print('Covid19 Train acc: {}'.format(np.round((hist.history['accuracy'][-1])*100, 2)))\n",
    "\n",
    "    fig, ax = plt.subplots(1, 2, figsize=(10, 3))\n",
    "    ax = ax.ravel()\n",
    "    for i, met in enumerate(['accuracy', 'loss']):\n",
    "        ax[i].plot(hist.history[met])\n",
    "        ax[i].plot(hist.history['val_' + met])\n",
    "        ax[i].set_title('Model {}'.format(met))\n",
    "        ax[i].set_xlabel('epochs')\n",
    "        ax[i].set_ylabel(met)\n",
    "        ax[i].legend(['train', 'val'])\n",
    "    plt.savefig('train_val_acc_loss.png')"
   ]
  },
  {
   "cell_type": "code",
   "execution_count": 4,
   "metadata": {},
   "outputs": [],
   "source": [
    "#Util Component 2:model architecture description\n",
    "def defineModelArchitecture (_img_dims ):\n",
    "    # Input layer\n",
    "    inputs = Input(shape=(_img_dims, _img_dims, 3))\n",
    "\n",
    "    x = Conv2D(filters=128, kernel_size=(3, 3), activation='relu', padding='same')(inputs)\n",
    "    x = Conv2D(filters=128, kernel_size=(3, 3), activation='relu', padding='same')(x)\n",
    "    x = MaxPool2D(pool_size=(2, 2))(x)\n",
    "\n",
    "    x = Flatten()(x)\n",
    "    x = Dense(units=512, activation='relu')(x)\n",
    "    x = Dropout(rate=0.7)(x)\n",
    "    x = Dense(units=128, activation='relu')(x)\n",
    "    x = Dropout(rate=0.5)(x)\n",
    "    x = Dense(units=64, activation='relu')(x)\n",
    "    x = Dropout(rate=0.3)(x)\n",
    "\n",
    "    # Output layer\n",
    "    output = Dense(units=1, activation='sigmoid')(x)\n",
    "    \n",
    "    return inputs, output\n",
    "\n",
    "\n",
    "\n",
    "\n",
    "def process_data(___inputPath, img_dims, batch_size):\n",
    "    # Data generation objects\n",
    "    train_datagen = ImageDataGenerator(rescale=1./255, zoom_range=0.3, vertical_flip=True)\n",
    "    test_val_datagen = ImageDataGenerator(rescale=1./255)\n",
    "    \n",
    "    # This is fed to the network in the specified batch sizes and image dimensions\n",
    "    train_gen = train_datagen.flow_from_directory(\n",
    "    directory=___inputPath+'train', \n",
    "    target_size=(img_dims, img_dims), \n",
    "    batch_size=batch_size, \n",
    "    class_mode='binary', \n",
    "    shuffle=True)\n",
    "\n",
    "    test_gen = test_val_datagen.flow_from_directory(\n",
    "    directory=___inputPath+'test', \n",
    "    target_size=(img_dims, img_dims), \n",
    "    batch_size=batch_size, \n",
    "    class_mode='binary', \n",
    "    shuffle=True)\n",
    "    \n",
    "    # I will be making predictions off of the test set in one batch size\n",
    "    # This is useful to be able to get the confusion matrix\n",
    "    test_data = []\n",
    "    test_labels = []\n",
    "\n",
    "    for cond in ['/NORMAL/', '/PNEUMONIA/']:\n",
    "        for img in (os.listdir(___inputPath + 'test' + cond)):\n",
    "            img = cv2.imread(___inputPath+'test'+cond+img,0) #Replace plt.imread, with  gray scale cv2.imread(path,0), so that ui's image load process doesn't throw a pyimage10 error\n",
    "            img = cv2.resize(img, (img_dims, img_dims))\n",
    "            img = np.dstack([img, img, img])\n",
    "            img = img.astype('float32') / 255\n",
    "            if cond=='/NORMAL/':\n",
    "                label = 0\n",
    "            elif cond=='/PNEUMONIA/':\n",
    "                label = 1\n",
    "            test_data.append(img)\n",
    "            test_labels.append(label)\n",
    "        \n",
    "    test_data = np.array(test_data)\n",
    "    test_labels = np.array(test_labels)\n",
    "    \n",
    "    return train_gen, test_gen, test_data, test_labels\n",
    "    \n",
    "\n",
    "###########\n",
    "#Util Component 4: Report file distributions\n",
    "#directoryProcessArray eg, = ['train', 'val', 'test'], in the case that training val and test folders exist in sub-dir for processing.\n",
    "def reportFileDistributions (___inputPath, directoryProcessArray):\n",
    "    for _set in directoryProcessArray:\n",
    "        n_normal = len(os.listdir(___inputPath + _set + '/NORMAL'))\n",
    "        n_infect = len(os.listdir(___inputPath + _set + '/PNEUMONIA'))\n",
    "        print('Set: {}, normal images: {}, regular pneumonia images: {}'.format(_set, n_normal, n_infect))"
   ]
  },
  {
   "cell_type": "code",
   "execution_count": 5,
   "metadata": {},
   "outputs": [],
   "source": [
    "# Setting seeds for reproducibility\n",
    "seed = 232\n",
    "np.random.seed(seed)\n",
    "tf.random.set_seed(seed)"
   ]
  },
  {
   "cell_type": "code",
   "execution_count": 6,
   "metadata": {},
   "outputs": [],
   "source": [
    "# Hyperparameters\n",
    "img_dims = 150\n",
    "batch_size = 32"
   ]
  },
  {
   "cell_type": "code",
   "execution_count": 7,
   "metadata": {},
   "outputs": [],
   "source": [
    "inputs, output = defineModelArchitecture ( img_dims )"
   ]
  },
  {
   "cell_type": "markdown",
   "metadata": {},
   "source": [
    "# Non-COVID-19 Lung Pneumonia Detection"
   ]
  },
  {
   "cell_type": "code",
   "execution_count": 8,
   "metadata": {},
   "outputs": [
    {
     "name": "stdout",
     "output_type": "stream",
     "text": [
      "Model: \"model\"\n",
      "_________________________________________________________________\n",
      "Layer (type)                 Output Shape              Param #   \n",
      "=================================================================\n",
      "input_1 (InputLayer)         [(None, 150, 150, 3)]     0         \n",
      "_________________________________________________________________\n",
      "conv2d (Conv2D)              (None, 150, 150, 128)     3584      \n",
      "_________________________________________________________________\n",
      "conv2d_1 (Conv2D)            (None, 150, 150, 128)     147584    \n",
      "_________________________________________________________________\n",
      "max_pooling2d (MaxPooling2D) (None, 75, 75, 128)       0         \n",
      "_________________________________________________________________\n",
      "flatten (Flatten)            (None, 720000)            0         \n",
      "_________________________________________________________________\n",
      "dense (Dense)                (None, 512)               368640512 \n",
      "_________________________________________________________________\n",
      "dropout (Dropout)            (None, 512)               0         \n",
      "_________________________________________________________________\n",
      "dense_1 (Dense)              (None, 128)               65664     \n",
      "_________________________________________________________________\n",
      "dropout_1 (Dropout)          (None, 128)               0         \n",
      "_________________________________________________________________\n",
      "dense_2 (Dense)              (None, 64)                8256      \n",
      "_________________________________________________________________\n",
      "dropout_2 (Dropout)          (None, 64)                0         \n",
      "_________________________________________________________________\n",
      "dense_3 (Dense)              (None, 1)                 65        \n",
      "=================================================================\n",
      "Total params: 368,865,665\n",
      "Trainable params: 368,865,665\n",
      "Non-trainable params: 0\n",
      "_________________________________________________________________\n"
     ]
    }
   ],
   "source": [
    "# Creating model and compiling\n",
    "model_pneumoniaDetector = Model(inputs=inputs, outputs=output)\n",
    "model_pneumoniaDetector.compile(optimizer='adam', loss='binary_crossentropy', metrics=['accuracy'])\n",
    "model_pneumoniaDetector.summary()"
   ]
  },
  {
   "cell_type": "code",
   "execution_count": 9,
   "metadata": {},
   "outputs": [],
   "source": [
    "input_path_b = '../input/chest-xray-pneumonia/chest_xray/chest_xray/'"
   ]
  },
  {
   "cell_type": "code",
   "execution_count": 10,
   "metadata": {},
   "outputs": [
    {
     "name": "stdout",
     "output_type": "stream",
     "text": [
      "Set: train, normal images: 1342, regular pneumonia images: 3876\n",
      "Set: val, normal images: 9, regular pneumonia images: 9\n",
      "Set: test, normal images: 234, regular pneumonia images: 390\n"
     ]
    }
   ],
   "source": [
    "# Report file distributions\n",
    "reportFileDistributions (input_path_b, ['train', 'val', 'test'] )"
   ]
  },
  {
   "cell_type": "code",
   "execution_count": 11,
   "metadata": {},
   "outputs": [
    {
     "name": "stdout",
     "output_type": "stream",
     "text": [
      "Found 5216 images belonging to 2 classes.\n",
      "Found 624 images belonging to 2 classes.\n"
     ]
    }
   ],
   "source": [
    "# Getting the data\n",
    "train_gen, test_gen, test_data_b, test_labels_b = process_data(input_path_b, img_dims, batch_size)"
   ]
  },
  {
   "cell_type": "code",
   "execution_count": 12,
   "metadata": {},
   "outputs": [
    {
     "name": "stdout",
     "output_type": "stream",
     "text": [
      "\n",
      "CONFUSION MATRIX FORMAT ------------------\n",
      "\n",
      "[true positives    false positives]\n",
      "[false negatives    true negatives]\n",
      "\n",
      "\n",
      "CONFUSION MATRIX ------------------\n",
      "[[  2 232]\n",
      " [  6 384]]\n",
      "\n",
      "TEST METRICS ----------------------\n",
      "Accuracy: 61.858974358974365%\n",
      "Precision: 62.33766233766234%\n",
      "Recall/Sensitivity: 98.46153846153847%\n",
      "Specificity 0.8547008547008548%\n",
      "F1-score: 76.34194831013917\n",
      "Train for 19 steps, validate for 19 steps\n",
      "Epoch 1/10\n",
      "19/19 [==============================] - 223s 12s/step - loss: 1.7848 - accuracy: 0.6382 - val_loss: 0.6740 - val_accuracy: 0.6234\n",
      "Epoch 2/10\n",
      "19/19 [==============================] - 219s 12s/step - loss: 0.6760 - accuracy: 0.6859 - val_loss: 0.6615 - val_accuracy: 0.6234\n",
      "Epoch 3/10\n",
      "18/19 [===========================>..] - ETA: 9s - loss: 0.6081 - accuracy: 0.7257 \n",
      "Epoch 00003: ReduceLROnPlateau reducing learning rate to 0.0003000000142492354.\n",
      "19/19 [==============================] - 219s 12s/step - loss: 0.6114 - accuracy: 0.7270 - val_loss: 0.6487 - val_accuracy: 0.6234\n",
      "Epoch 4/10\n",
      "19/19 [==============================] - 229s 12s/step - loss: 0.5797 - accuracy: 0.7253 - val_loss: 0.6400 - val_accuracy: 0.6234\n",
      "Epoch 5/10\n",
      "18/19 [===========================>..] - ETA: 9s - loss: 0.5552 - accuracy: 0.7292 \n",
      "Epoch 00005: ReduceLROnPlateau reducing learning rate to 9.000000427477062e-05.\n",
      "19/19 [==============================] - 219s 12s/step - loss: 0.5511 - accuracy: 0.7319 - val_loss: 0.6131 - val_accuracy: 0.6234\n",
      "Epoch 6/10\n",
      "19/19 [==============================] - 215s 11s/step - loss: 0.5206 - accuracy: 0.7385 - val_loss: 0.6446 - val_accuracy: 0.6234\n",
      "Epoch 7/10\n",
      "18/19 [===========================>..] - ETA: 9s - loss: 0.4719 - accuracy: 0.7535 \n",
      "Epoch 00007: ReduceLROnPlateau reducing learning rate to 2.700000040931627e-05.\n",
      "19/19 [==============================] - 234s 12s/step - loss: 0.4721 - accuracy: 0.7549 - val_loss: 0.6047 - val_accuracy: 0.6234\n",
      "Epoch 8/10\n",
      "19/19 [==============================] - 216s 11s/step - loss: 0.4958 - accuracy: 0.7434 - val_loss: 0.6082 - val_accuracy: 0.6234\n",
      "Epoch 9/10\n",
      "18/19 [===========================>..] - ETA: 9s - loss: 0.4755 - accuracy: 0.7726 \n",
      "Epoch 00009: ReduceLROnPlateau reducing learning rate to 8.100000013655517e-06.\n",
      "19/19 [==============================] - 218s 11s/step - loss: 0.4730 - accuracy: 0.7747 - val_loss: 0.6000 - val_accuracy: 0.6234\n",
      "Epoch 10/10\n",
      "19/19 [==============================] - 231s 12s/step - loss: 0.4874 - accuracy: 0.7747 - val_loss: 0.5927 - val_accuracy: 0.6234\n",
      "\n",
      "TRAIN METRIC ----------------------\n",
      "Covid19 Train acc: 77.47\n"
     ]
    },
    {
     "data": {
      "image/png": "[encoded data removed]",
      "text/plain": [
       "<Figure size 720x216 with 2 Axes>"
      ]
     },
     "metadata": {
      "needs_background": "light"
     },
     "output_type": "display_data"
    }
   ],
   "source": [
    "renderConfusionMetrics(model_pneumoniaDetector, test_data_b, test_labels_b, True, train_gen, test_gen, batch_size, 10, 'model_weights.hdf5')\n"
   ]
  },
  {
   "cell_type": "markdown",
   "metadata": {},
   "source": [
    "# COVID-19 Lung Pneumonia Detection"
   ]
  },
  {
   "cell_type": "code",
   "execution_count": 13,
   "metadata": {},
   "outputs": [],
   "source": [
    "inputs, output = defineModelArchitecture(img_dims)\n",
    "\n",
    "# Creating model and compiling\n",
    "model_covid19PneumoniaDetector = Model(inputs=inputs, outputs=output)\n",
    "model_covid19PneumoniaDetector.compile(optimizer='adam', loss='binary_crossentropy', metrics=['accuracy'])\n",
    "model_covid19PneumoniaDetector.load_weights('model_weights.hdf5')"
   ]
  },
  {
   "cell_type": "code",
   "execution_count": 14,
   "metadata": {},
   "outputs": [],
   "source": [
    "input_path_d = '../input/covid19-xray-dataset-train-test-sets/xray_dataset_covid19/'"
   ]
  },
  {
   "cell_type": "code",
   "execution_count": 15,
   "metadata": {},
   "outputs": [
    {
     "name": "stdout",
     "output_type": "stream",
     "text": [
      "Set: train, normal images: 74, regular pneumonia images: 74\n",
      "Set: test, normal images: 20, regular pneumonia images: 20\n"
     ]
    }
   ],
   "source": [
    "reportFileDistributions (input_path_d, ['train', 'test'])"
   ]
  },
  {
   "cell_type": "code",
   "execution_count": 16,
   "metadata": {},
   "outputs": [
    {
     "name": "stdout",
     "output_type": "stream",
     "text": [
      "Found 148 images belonging to 2 classes.\n",
      "Found 40 images belonging to 2 classes.\n"
     ]
    }
   ],
   "source": [
    "train_gen_d, test_gen_d, test_data_d, test_labels_d = process_data(input_path_d, img_dims, batch_size)"
   ]
  },
  {
   "cell_type": "code",
   "execution_count": 17,
   "metadata": {},
   "outputs": [
    {
     "name": "stdout",
     "output_type": "stream",
     "text": [
      "\n",
      "CONFUSION MATRIX FORMAT ------------------\n",
      "\n",
      "[true positives    false positives]\n",
      "[false negatives    true negatives]\n",
      "\n",
      "\n",
      "CONFUSION MATRIX ------------------\n",
      "[[ 0 20]\n",
      " [ 0 20]]\n",
      "\n",
      "TEST METRICS ----------------------\n",
      "Accuracy: 50.0%\n",
      "Precision: 50.0%\n",
      "Recall/Sensitivity: 100.0%\n",
      "Specificity 0.0%\n",
      "F1-score: 66.66666666666667\n",
      "Train for 1 steps, validate for 1 steps\n",
      "Epoch 1/10\n",
      "1/1 [==============================] - 18s 18s/step - loss: 1.1358 - accuracy: 0.4500 - val_loss: 0.7021 - val_accuracy: 0.5000\n",
      "Epoch 2/10\n",
      "1/1 [==============================] - 19s 19s/step - loss: 0.8813 - accuracy: 0.5312 - val_loss: 0.6448 - val_accuracy: 0.7500\n",
      "Epoch 3/10\n",
      "\n",
      "Epoch 00003: ReduceLROnPlateau reducing learning rate to 0.0003000000142492354.\n",
      "1/1 [==============================] - 15s 15s/step - loss: 0.6072 - accuracy: 0.7500 - val_loss: 0.6417 - val_accuracy: 0.8125\n",
      "Epoch 4/10\n",
      "1/1 [==============================] - 15s 15s/step - loss: 0.8348 - accuracy: 0.5312 - val_loss: 0.6519 - val_accuracy: 0.7500\n",
      "Epoch 5/10\n",
      "\n",
      "Epoch 00005: ReduceLROnPlateau reducing learning rate to 9.000000427477062e-05.\n",
      "1/1 [==============================] - 11s 11s/step - loss: 0.8282 - accuracy: 0.6500 - val_loss: 0.6739 - val_accuracy: 0.5000\n",
      "Epoch 6/10\n",
      "1/1 [==============================] - 15s 15s/step - loss: 0.8392 - accuracy: 0.5000 - val_loss: 0.6729 - val_accuracy: 0.5000\n",
      "Epoch 7/10\n",
      "\n",
      "Epoch 00007: ReduceLROnPlateau reducing learning rate to 2.700000040931627e-05.\n",
      "1/1 [==============================] - 11s 11s/step - loss: 0.7700 - accuracy: 0.6000 - val_loss: 0.6747 - val_accuracy: 0.5000\n",
      "Epoch 8/10\n",
      "1/1 [==============================] - 12s 12s/step - loss: 0.7331 - accuracy: 0.4000 - val_loss: 0.6750 - val_accuracy: 0.5000\n",
      "Epoch 9/10\n",
      "\n",
      "Epoch 00009: ReduceLROnPlateau reducing learning rate to 8.100000013655517e-06.\n",
      "1/1 [==============================] - 15s 15s/step - loss: 0.7341 - accuracy: 0.5625 - val_loss: 0.6750 - val_accuracy: 0.5000\n",
      "Epoch 10/10\n",
      "1/1 [==============================] - 15s 15s/step - loss: 1.1275 - accuracy: 0.5312 - val_loss: 0.6748 - val_accuracy: 0.5000\n",
      "\n",
      "TRAIN METRIC ----------------------\n",
      "Covid19 Train acc: 53.12\n"
     ]
    },
    {
     "data": {
      "image/png": "[encoded data removed]",
      "text/plain": [
       "<Figure size 720x216 with 2 Axes>"
      ]
     },
     "metadata": {
      "needs_background": "light"
     },
     "output_type": "display_data"
    }
   ],
   "source": [
    "renderConfusionMetrics(model_covid19PneumoniaDetector, test_data_d, test_labels_d, True, train_gen_d, test_gen_d, batch_size, 10, 'covid19_model_weights.hdf5')"
   ]
  },
  {
   "cell_type": "markdown",
   "metadata": {},
   "source": [
    "# References\n",
    "\n",
    "[1] Joseph Paul Cohen and Paul Morrison and Lan Dao. COVID-19 image data collection, arXiv, 2020. https://github.com/ieee8023/covid-chestxray-dataset\n",
    "\n",
    "[2] https://github.com/JordanMicahBennett/SMART-CT-SCAN_BASED-COVID19_VIRUS_DETECTOR/"
   ]
  },
  {
   "cell_type": "markdown",
   "metadata": {},
   "source": [
    "## Thank you! I'll be updating this kernel from time to time, when new COVID-19 images come in. Stay safe and happy Kaggling everyone! :)"
   ]
  }
 ],
 "metadata": {
  "kernelspec": {
   "display_name": "Python 3",
   "language": "python",
   "name": "python3"
  },
  "language_info": {
   "codemirror_mode": {
    "name": "ipython",
    "version": 3
   },
   "file_extension": ".py",
   "mimetype": "text/x-python",
   "name": "python",
   "nbconvert_exporter": "python",
   "pygments_lexer": "ipython3",
   "version": "3.6.6"
  }
 },
 "nbformat": 4,
 "nbformat_minor": 4
}
